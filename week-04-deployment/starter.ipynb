{
 "cells": [
  {
   "cell_type": "code",
   "execution_count": 1,
   "id": "2c51efaa",
   "metadata": {},
   "outputs": [
    {
     "name": "stdout",
     "output_type": "stream",
     "text": [
      "scikit-learn==1.0.2\r\n"
     ]
    }
   ],
   "source": [
    "!pip freeze | grep scikit-learn"
   ]
  },
  {
   "cell_type": "code",
   "execution_count": 2,
   "id": "0ef880a0",
   "metadata": {},
   "outputs": [],
   "source": [
    "import pickle\n",
    "import pandas as pd\n",
    "from datetime import datetime"
   ]
  },
  {
   "cell_type": "code",
   "execution_count": 3,
   "id": "7836ccfd",
   "metadata": {},
   "outputs": [
    {
     "name": "stderr",
     "output_type": "stream",
     "text": [
      "/home/yokks/miniconda3/envs/week4/lib/python3.11/site-packages/sklearn/base.py:329: UserWarning: Trying to unpickle estimator DictVectorizer from version 1.2.2 when using version 1.0.2. This might lead to breaking code or invalid results. Use at your own risk. For more info please refer to:\n",
      "https://scikit-learn.org/stable/modules/model_persistence.html#security-maintainability-limitations\n",
      "  warnings.warn(\n",
      "/home/yokks/miniconda3/envs/week4/lib/python3.11/site-packages/sklearn/base.py:329: UserWarning: Trying to unpickle estimator LinearRegression from version 1.2.2 when using version 1.0.2. This might lead to breaking code or invalid results. Use at your own risk. For more info please refer to:\n",
      "https://scikit-learn.org/stable/modules/model_persistence.html#security-maintainability-limitations\n",
      "  warnings.warn(\n"
     ]
    }
   ],
   "source": [
    "with open('model.bin', 'rb') as f_in:\n",
    "    dv, model = pickle.load(f_in)"
   ]
  },
  {
   "cell_type": "code",
   "execution_count": 4,
   "id": "41c08294",
   "metadata": {},
   "outputs": [],
   "source": [
    "categorical = ['PULocationID', 'DOLocationID']\n",
    "\n",
    "def read_data(filename):\n",
    "    df = pd.read_parquet(filename)\n",
    "    \n",
    "    df['duration'] = df.tpep_dropoff_datetime - df.tpep_pickup_datetime\n",
    "    df['duration'] = df.duration.dt.total_seconds() / 60\n",
    "\n",
    "    df = df[(df.duration >= 1) & (df.duration <= 60)].copy()\n",
    "\n",
    "    df[categorical] = df[categorical].fillna(-1).astype('int').astype('str')\n",
    "    \n",
    "    return df"
   ]
  },
  {
   "cell_type": "code",
   "execution_count": 5,
   "id": "4854399a",
   "metadata": {},
   "outputs": [],
   "source": [
    "df = read_data('https://d37ci6vzurychx.cloudfront.net/trip-data/yellow_tripdata_2022-03.parquet')"
   ]
  },
  {
   "cell_type": "code",
   "execution_count": 6,
   "id": "669fda0a",
   "metadata": {},
   "outputs": [],
   "source": [
    "dicts = df[categorical].to_dict(orient='records')\n",
    "X_val = dv.transform(dicts)\n",
    "y_pred = model.predict(X_val)"
   ]
  },
  {
   "cell_type": "code",
   "execution_count": 7,
   "id": "125635a8",
   "metadata": {},
   "outputs": [
    {
     "data": {
      "text/plain": [
       "5.556602554785001"
      ]
     },
     "execution_count": 7,
     "metadata": {},
     "output_type": "execute_result"
    }
   ],
   "source": [
    "y_pred.std()"
   ]
  },
  {
   "cell_type": "code",
   "execution_count": 8,
   "id": "1511ec31",
   "metadata": {},
   "outputs": [
    {
     "data": {
      "text/plain": [
       "12.758556818790902"
      ]
     },
     "execution_count": 8,
     "metadata": {},
     "output_type": "execute_result"
    }
   ],
   "source": [
    "y_pred.mean()"
   ]
  },
  {
   "cell_type": "code",
   "execution_count": 9,
   "id": "bfb68dcd",
   "metadata": {},
   "outputs": [],
   "source": [
    "df['ride_id'] = f'{datetime.now().year:04d}/{datetime.now().month:02d}_' + df.index.astype('str')"
   ]
  },
  {
   "cell_type": "code",
   "execution_count": 10,
   "id": "0108c424",
   "metadata": {},
   "outputs": [
    {
     "data": {
      "text/html": [
       "<div>\n",
       "<style scoped>\n",
       "    .dataframe tbody tr th:only-of-type {\n",
       "        vertical-align: middle;\n",
       "    }\n",
       "\n",
       "    .dataframe tbody tr th {\n",
       "        vertical-align: top;\n",
       "    }\n",
       "\n",
       "    .dataframe thead th {\n",
       "        text-align: right;\n",
       "    }\n",
       "</style>\n",
       "<table border=\"1\" class=\"dataframe\">\n",
       "  <thead>\n",
       "    <tr style=\"text-align: right;\">\n",
       "      <th></th>\n",
       "      <th>VendorID</th>\n",
       "      <th>tpep_pickup_datetime</th>\n",
       "      <th>tpep_dropoff_datetime</th>\n",
       "      <th>passenger_count</th>\n",
       "      <th>trip_distance</th>\n",
       "      <th>RatecodeID</th>\n",
       "      <th>payment_type</th>\n",
       "      <th>fare_amount</th>\n",
       "      <th>extra</th>\n",
       "      <th>mta_tax</th>\n",
       "      <th>tip_amount</th>\n",
       "      <th>tolls_amount</th>\n",
       "      <th>improvement_surcharge</th>\n",
       "      <th>total_amount</th>\n",
       "      <th>congestion_surcharge</th>\n",
       "      <th>airport_fee</th>\n",
       "      <th>duration</th>\n",
       "    </tr>\n",
       "  </thead>\n",
       "  <tbody>\n",
       "    <tr>\n",
       "      <th>count</th>\n",
       "      <td>3.539827e+06</td>\n",
       "      <td>3539827</td>\n",
       "      <td>3539827</td>\n",
       "      <td>3.429669e+06</td>\n",
       "      <td>3.539827e+06</td>\n",
       "      <td>3.429669e+06</td>\n",
       "      <td>3.539827e+06</td>\n",
       "      <td>3.539827e+06</td>\n",
       "      <td>3.539827e+06</td>\n",
       "      <td>3.539827e+06</td>\n",
       "      <td>3.539827e+06</td>\n",
       "      <td>3.539827e+06</td>\n",
       "      <td>3.539827e+06</td>\n",
       "      <td>3.539827e+06</td>\n",
       "      <td>3.429669e+06</td>\n",
       "      <td>3.429669e+06</td>\n",
       "      <td>3.539827e+06</td>\n",
       "    </tr>\n",
       "    <tr>\n",
       "      <th>mean</th>\n",
       "      <td>1.707246e+00</td>\n",
       "      <td>2022-03-16 16:37:35.938137856</td>\n",
       "      <td>2022-03-16 16:51:59.895788800</td>\n",
       "      <td>1.387912e+00</td>\n",
       "      <td>5.665108e+00</td>\n",
       "      <td>1.342189e+00</td>\n",
       "      <td>1.175141e+00</td>\n",
       "      <td>1.333845e+01</td>\n",
       "      <td>1.031789e+00</td>\n",
       "      <td>4.936627e-01</td>\n",
       "      <td>2.588406e+00</td>\n",
       "      <td>4.475753e-01</td>\n",
       "      <td>2.973891e-01</td>\n",
       "      <td>1.990878e+01</td>\n",
       "      <td>2.321207e+00</td>\n",
       "      <td>8.129392e-02</td>\n",
       "      <td>1.439929e+01</td>\n",
       "    </tr>\n",
       "    <tr>\n",
       "      <th>min</th>\n",
       "      <td>1.000000e+00</td>\n",
       "      <td>2008-12-31 23:19:56</td>\n",
       "      <td>2008-12-31 23:44:06</td>\n",
       "      <td>0.000000e+00</td>\n",
       "      <td>0.000000e+00</td>\n",
       "      <td>1.000000e+00</td>\n",
       "      <td>0.000000e+00</td>\n",
       "      <td>-3.000000e+02</td>\n",
       "      <td>-4.500000e+00</td>\n",
       "      <td>-5.000000e-01</td>\n",
       "      <td>-8.432000e+01</td>\n",
       "      <td>-8.300000e+01</td>\n",
       "      <td>-3.000000e-01</td>\n",
       "      <td>-3.028000e+02</td>\n",
       "      <td>-2.500000e+00</td>\n",
       "      <td>-1.250000e+00</td>\n",
       "      <td>1.000000e+00</td>\n",
       "    </tr>\n",
       "    <tr>\n",
       "      <th>25%</th>\n",
       "      <td>1.000000e+00</td>\n",
       "      <td>2022-03-08 20:13:02</td>\n",
       "      <td>2022-03-08 20:25:49.500000</td>\n",
       "      <td>1.000000e+00</td>\n",
       "      <td>1.100000e+00</td>\n",
       "      <td>1.000000e+00</td>\n",
       "      <td>1.000000e+00</td>\n",
       "      <td>7.000000e+00</td>\n",
       "      <td>0.000000e+00</td>\n",
       "      <td>5.000000e-01</td>\n",
       "      <td>1.000000e+00</td>\n",
       "      <td>0.000000e+00</td>\n",
       "      <td>3.000000e-01</td>\n",
       "      <td>1.185000e+01</td>\n",
       "      <td>2.500000e+00</td>\n",
       "      <td>0.000000e+00</td>\n",
       "      <td>7.283333e+00</td>\n",
       "    </tr>\n",
       "    <tr>\n",
       "      <th>50%</th>\n",
       "      <td>2.000000e+00</td>\n",
       "      <td>2022-03-16 18:26:29</td>\n",
       "      <td>2022-03-16 18:42:01</td>\n",
       "      <td>1.000000e+00</td>\n",
       "      <td>1.830000e+00</td>\n",
       "      <td>1.000000e+00</td>\n",
       "      <td>1.000000e+00</td>\n",
       "      <td>9.500000e+00</td>\n",
       "      <td>5.000000e-01</td>\n",
       "      <td>5.000000e-01</td>\n",
       "      <td>2.160000e+00</td>\n",
       "      <td>0.000000e+00</td>\n",
       "      <td>3.000000e-01</td>\n",
       "      <td>1.536000e+01</td>\n",
       "      <td>2.500000e+00</td>\n",
       "      <td>0.000000e+00</td>\n",
       "      <td>1.171667e+01</td>\n",
       "    </tr>\n",
       "    <tr>\n",
       "      <th>75%</th>\n",
       "      <td>2.000000e+00</td>\n",
       "      <td>2022-03-24 16:28:01</td>\n",
       "      <td>2022-03-24 16:43:48.500000</td>\n",
       "      <td>1.000000e+00</td>\n",
       "      <td>3.310000e+00</td>\n",
       "      <td>1.000000e+00</td>\n",
       "      <td>1.000000e+00</td>\n",
       "      <td>1.500000e+01</td>\n",
       "      <td>2.500000e+00</td>\n",
       "      <td>5.000000e-01</td>\n",
       "      <td>3.250000e+00</td>\n",
       "      <td>0.000000e+00</td>\n",
       "      <td>3.000000e-01</td>\n",
       "      <td>2.136000e+01</td>\n",
       "      <td>2.500000e+00</td>\n",
       "      <td>0.000000e+00</td>\n",
       "      <td>1.845000e+01</td>\n",
       "    </tr>\n",
       "    <tr>\n",
       "      <th>max</th>\n",
       "      <td>6.000000e+00</td>\n",
       "      <td>2022-05-15 20:33:18</td>\n",
       "      <td>2022-05-15 20:38:57</td>\n",
       "      <td>8.000000e+00</td>\n",
       "      <td>2.862598e+05</td>\n",
       "      <td>9.900000e+01</td>\n",
       "      <td>4.000000e+00</td>\n",
       "      <td>7.000000e+02</td>\n",
       "      <td>9.050000e+00</td>\n",
       "      <td>1.710000e+01</td>\n",
       "      <td>4.660000e+02</td>\n",
       "      <td>2.357000e+02</td>\n",
       "      <td>3.000000e-01</td>\n",
       "      <td>8.433600e+02</td>\n",
       "      <td>2.750000e+00</td>\n",
       "      <td>1.250000e+00</td>\n",
       "      <td>6.000000e+01</td>\n",
       "    </tr>\n",
       "    <tr>\n",
       "      <th>std</th>\n",
       "      <td>4.681243e-01</td>\n",
       "      <td>NaN</td>\n",
       "      <td>NaN</td>\n",
       "      <td>9.728462e-01</td>\n",
       "      <td>5.748943e+02</td>\n",
       "      <td>5.418762e+00</td>\n",
       "      <td>4.846125e-01</td>\n",
       "      <td>1.143029e+01</td>\n",
       "      <td>1.235186e+00</td>\n",
       "      <td>7.328840e-02</td>\n",
       "      <td>2.825181e+00</td>\n",
       "      <td>1.798000e+00</td>\n",
       "      <td>3.935751e-02</td>\n",
       "      <td>1.465040e+01</td>\n",
       "      <td>6.818401e-01</td>\n",
       "      <td>3.096991e-01</td>\n",
       "      <td>1.011784e+01</td>\n",
       "    </tr>\n",
       "  </tbody>\n",
       "</table>\n",
       "</div>"
      ],
      "text/plain": [
       "           VendorID           tpep_pickup_datetime  \\\n",
       "count  3.539827e+06                        3539827   \n",
       "mean   1.707246e+00  2022-03-16 16:37:35.938137856   \n",
       "min    1.000000e+00            2008-12-31 23:19:56   \n",
       "25%    1.000000e+00            2022-03-08 20:13:02   \n",
       "50%    2.000000e+00            2022-03-16 18:26:29   \n",
       "75%    2.000000e+00            2022-03-24 16:28:01   \n",
       "max    6.000000e+00            2022-05-15 20:33:18   \n",
       "std    4.681243e-01                            NaN   \n",
       "\n",
       "               tpep_dropoff_datetime  passenger_count  trip_distance  \\\n",
       "count                        3539827     3.429669e+06   3.539827e+06   \n",
       "mean   2022-03-16 16:51:59.895788800     1.387912e+00   5.665108e+00   \n",
       "min              2008-12-31 23:44:06     0.000000e+00   0.000000e+00   \n",
       "25%       2022-03-08 20:25:49.500000     1.000000e+00   1.100000e+00   \n",
       "50%              2022-03-16 18:42:01     1.000000e+00   1.830000e+00   \n",
       "75%       2022-03-24 16:43:48.500000     1.000000e+00   3.310000e+00   \n",
       "max              2022-05-15 20:38:57     8.000000e+00   2.862598e+05   \n",
       "std                              NaN     9.728462e-01   5.748943e+02   \n",
       "\n",
       "         RatecodeID  payment_type   fare_amount         extra       mta_tax  \\\n",
       "count  3.429669e+06  3.539827e+06  3.539827e+06  3.539827e+06  3.539827e+06   \n",
       "mean   1.342189e+00  1.175141e+00  1.333845e+01  1.031789e+00  4.936627e-01   \n",
       "min    1.000000e+00  0.000000e+00 -3.000000e+02 -4.500000e+00 -5.000000e-01   \n",
       "25%    1.000000e+00  1.000000e+00  7.000000e+00  0.000000e+00  5.000000e-01   \n",
       "50%    1.000000e+00  1.000000e+00  9.500000e+00  5.000000e-01  5.000000e-01   \n",
       "75%    1.000000e+00  1.000000e+00  1.500000e+01  2.500000e+00  5.000000e-01   \n",
       "max    9.900000e+01  4.000000e+00  7.000000e+02  9.050000e+00  1.710000e+01   \n",
       "std    5.418762e+00  4.846125e-01  1.143029e+01  1.235186e+00  7.328840e-02   \n",
       "\n",
       "         tip_amount  tolls_amount  improvement_surcharge  total_amount  \\\n",
       "count  3.539827e+06  3.539827e+06           3.539827e+06  3.539827e+06   \n",
       "mean   2.588406e+00  4.475753e-01           2.973891e-01  1.990878e+01   \n",
       "min   -8.432000e+01 -8.300000e+01          -3.000000e-01 -3.028000e+02   \n",
       "25%    1.000000e+00  0.000000e+00           3.000000e-01  1.185000e+01   \n",
       "50%    2.160000e+00  0.000000e+00           3.000000e-01  1.536000e+01   \n",
       "75%    3.250000e+00  0.000000e+00           3.000000e-01  2.136000e+01   \n",
       "max    4.660000e+02  2.357000e+02           3.000000e-01  8.433600e+02   \n",
       "std    2.825181e+00  1.798000e+00           3.935751e-02  1.465040e+01   \n",
       "\n",
       "       congestion_surcharge   airport_fee      duration  \n",
       "count          3.429669e+06  3.429669e+06  3.539827e+06  \n",
       "mean           2.321207e+00  8.129392e-02  1.439929e+01  \n",
       "min           -2.500000e+00 -1.250000e+00  1.000000e+00  \n",
       "25%            2.500000e+00  0.000000e+00  7.283333e+00  \n",
       "50%            2.500000e+00  0.000000e+00  1.171667e+01  \n",
       "75%            2.500000e+00  0.000000e+00  1.845000e+01  \n",
       "max            2.750000e+00  1.250000e+00  6.000000e+01  \n",
       "std            6.818401e-01  3.096991e-01  1.011784e+01  "
      ]
     },
     "execution_count": 10,
     "metadata": {},
     "output_type": "execute_result"
    }
   ],
   "source": [
    "df.describe()"
   ]
  },
  {
   "cell_type": "code",
   "execution_count": 11,
   "id": "f5be31eb",
   "metadata": {},
   "outputs": [],
   "source": [
    "df['ride_id']\n",
    "\n",
    "df_result = pd.DataFrame()"
   ]
  },
  {
   "cell_type": "code",
   "execution_count": 12,
   "id": "ca58ee8c",
   "metadata": {},
   "outputs": [],
   "source": [
    "df_result['ride_id'] = df['ride_id']"
   ]
  },
  {
   "cell_type": "code",
   "execution_count": 13,
   "id": "c4a7bfdd",
   "metadata": {},
   "outputs": [],
   "source": [
    "df_result['y_pred'] = y_pred"
   ]
  },
  {
   "cell_type": "code",
   "execution_count": 14,
   "id": "d0bc610b",
   "metadata": {},
   "outputs": [],
   "source": [
    "output_file=\"yellow_tripdata_ride_2022-02\"\n",
    "df_result.to_parquet(\n",
    "    output_file,\n",
    "    engine='pyarrow',\n",
    "    compression=None,\n",
    "    index=False\n",
    ")"
   ]
  },
  {
   "cell_type": "code",
   "execution_count": 15,
   "id": "5f4bdaeb",
   "metadata": {},
   "outputs": [
    {
     "name": "stdout",
     "output_type": "stream",
     "text": [
      "<class 'pandas.core.frame.DataFrame'>\n",
      "Index: 3539827 entries, 0 to 3627881\n",
      "Data columns (total 2 columns):\n",
      " #   Column   Dtype  \n",
      "---  ------   -----  \n",
      " 0   ride_id  object \n",
      " 1   y_pred   float64\n",
      "dtypes: float64(1), object(1)\n",
      "memory usage: 81.0+ MB\n"
     ]
    }
   ],
   "source": [
    "df_result.info()"
   ]
  },
  {
   "cell_type": "code",
   "execution_count": 16,
   "id": "482c5c76",
   "metadata": {},
   "outputs": [
    {
     "data": {
      "text/plain": [
       "0                2023/06_0\n",
       "1                2023/06_1\n",
       "2                2023/06_2\n",
       "3                2023/06_3\n",
       "4                2023/06_4\n",
       "                ...       \n",
       "3627877    2023/06_3627877\n",
       "3627878    2023/06_3627878\n",
       "3627879    2023/06_3627879\n",
       "3627880    2023/06_3627880\n",
       "3627881    2023/06_3627881\n",
       "Name: ride_id, Length: 3539827, dtype: object"
      ]
     },
     "execution_count": 16,
     "metadata": {},
     "output_type": "execute_result"
    }
   ],
   "source": [
    "df_result['ride_id']"
   ]
  },
  {
   "cell_type": "code",
   "execution_count": 17,
   "id": "e1f7e22f",
   "metadata": {},
   "outputs": [
    {
     "data": {
      "text/plain": [
       "12.758556818790902"
      ]
     },
     "execution_count": 17,
     "metadata": {},
     "output_type": "execute_result"
    }
   ],
   "source": [
    "y_pred.mean()"
   ]
  },
  {
   "cell_type": "code",
   "execution_count": null,
   "id": "ff648edc",
   "metadata": {},
   "outputs": [],
   "source": []
  }
 ],
 "metadata": {
  "kernelspec": {
   "display_name": "Python 3 (ipykernel)",
   "language": "python",
   "name": "python3"
  },
  "language_info": {
   "codemirror_mode": {
    "name": "ipython",
    "version": 3
   },
   "file_extension": ".py",
   "mimetype": "text/x-python",
   "name": "python",
   "nbconvert_exporter": "python",
   "pygments_lexer": "ipython3",
   "version": "3.11.3"
  }
 },
 "nbformat": 4,
 "nbformat_minor": 5
}
